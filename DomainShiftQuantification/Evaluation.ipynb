{
 "cells": [
  {
   "cell_type": "markdown",
   "metadata": {},
   "source": [
    "### Evaluation of the F1 score and the proxy A distance-derived metric\n"
   ]
  },
  {
   "cell_type": "code",
   "execution_count": 1,
   "metadata": {},
   "outputs": [],
   "source": [
    "import os\n",
    "import pickle\n",
    "\n",
    "F1=pickle.load(open('F1_MIDOG.p','rb'))\n",
    "F1Werte=[]\n",
    "PADWerte=[]\n",
    "scanner = ['TUPAC', 'XR','S360','CS2','GT450']\n",
    "d = {k:{k:[] for k in scanner} for k in scanner}\n",
    "for f in sorted(os.listdir('.')):\n",
    "    if 'padstar_clahead' in f:\n",
    "        spl = f.split('.')[0].split('_')\n",
    "        fromscanner = int(spl[2])\n",
    "        toscanner = int(spl[3])\n",
    "        run = int(spl[4])\n",
    "        pad=pickle.load(open(f,'rb'))\n",
    "        d[scanner[fromscanner]][scanner[toscanner]].append(pad)\n",
    "        if toscanner ==4:\n",
    "            continue\n",
    "        F1Werte.append(F1[scanner[fromscanner]][scanner[toscanner]][run])\n",
    "        PADWerte.append(pad)\n"
   ]
  },
  {
   "cell_type": "code",
   "execution_count": 2,
   "metadata": {},
   "outputs": [
    {
     "data": {
      "text/plain": [
       "[<matplotlib.lines.Line2D at 0x7fdf9fe9d780>]"
      ]
     },
     "execution_count": 2,
     "metadata": {},
     "output_type": "execute_result"
    },
    {
     "data": {
      "image/png": "[encoded data removed]",
      "text/plain": [
       "<Figure size 432x288 with 1 Axes>"
      ]
     },
     "metadata": {
      "needs_background": "light"
     },
     "output_type": "display_data"
    }
   ],
   "source": [
    "import matplotlib.pyplot as plt\n",
    "plt.plot(F1Werte,PADWerte,'r*')"
   ]
  },
  {
   "cell_type": "markdown",
   "metadata": {},
   "source": [
    "## Calculate corr coeff between individual training runs' values of the F1 score and the PAD* metric"
   ]
  },
  {
   "cell_type": "code",
   "execution_count": 3,
   "metadata": {},
   "outputs": [
    {
     "data": {
      "text/plain": [
       "array([[1.        , 0.03931056],\n",
       "       [0.03931056, 1.        ]])"
      ]
     },
     "execution_count": 3,
     "metadata": {},
     "output_type": "execute_result"
    }
   ],
   "source": [
    "import numpy as np\n",
    "np.corrcoef(F1Werte,PADWerte)"
   ]
  },
  {
   "cell_type": "markdown",
   "metadata": {},
   "source": [
    "## Print table for publication"
   ]
  },
  {
   "cell_type": "code",
   "execution_count": 4,
   "metadata": {},
   "outputs": [
    {
     "name": "stdout",
     "output_type": "stream",
     "text": [
      "TUPAC & 0.553 $\\pm$ 0.04&0.613 $\\pm$ 0.05&0.404 $\\pm$ 0.09&0.719 $\\pm$ 0.28&0.906 $\\pm$ 0.07&0.945 $\\pm$ 0.09 \\\\\n",
      "XR & 0.578 $\\pm$ 0.03&0.138 $\\pm$ 0.13&0.190 $\\pm$ 0.06&-&0.861 $\\pm$ 0.07&0.567 $\\pm$ 0.18 \\\\\n",
      "CS2 & 0.390 $\\pm$ 0.10&0.751 $\\pm$ 0.02&0.433 $\\pm$ 0.17&0.946 $\\pm$ 0.04&-&0.931 $\\pm$ 0.04 \\\\\n",
      "S360 & 0.432 $\\pm$ 0.08&0.574 $\\pm$ 0.09&0.721 $\\pm$ 0.03&0.769 $\\pm$ 0.06&0.741 $\\pm$ 0.11&- \\\\\n"
     ]
    }
   ],
   "source": [
    "for k in ['TUPAC','XR','CS2','S360']:\n",
    "    print(k,'& ',end='')\n",
    "    inf_scanner=[]\n",
    "    \n",
    "    for y in ['XR','CS2','S360']:\n",
    "        inf_scanner.append('%.3f $\\\\pm$ %.2f' % (np.mean(list(F1[k][y].values())), np.std(list(F1[k][y].values()))))\n",
    "\n",
    "    for y in ['XR','CS2','S360']:\n",
    "        if (k==y):\n",
    "            inf_scanner.append('-')\n",
    "        else:\n",
    "            inf_scanner.append('%.3f $\\\\pm$ %.2f' % (np.mean(d[k][y]), np.std(d[k][y])))\n",
    "\n",
    "        \n",
    "    print('&'.join(inf_scanner),'\\\\\\\\')"
   ]
  },
  {
   "cell_type": "code",
   "execution_count": 5,
   "metadata": {},
   "outputs": [
    {
     "data": {
      "text/plain": [
       "0.8206087177722818"
      ]
     },
     "execution_count": 5,
     "metadata": {},
     "output_type": "execute_result"
    }
   ],
   "source": [
    "np.mean(PADWerte)"
   ]
  },
  {
   "cell_type": "markdown",
   "metadata": {},
   "source": [
    "## Create images for publication"
   ]
  },
  {
   "cell_type": "code",
   "execution_count": 6,
   "metadata": {},
   "outputs": [
    {
     "ename": "NameError",
     "evalue": "name 'imgs' is not defined",
     "output_type": "error",
     "traceback": [
      "\u001b[0;31m---------------------------------------------------------------------------\u001b[0m",
      "\u001b[0;31mNameError\u001b[0m                                 Traceback (most recent call last)",
      "\u001b[0;32m<ipython-input-6-a2a735e28545>\u001b[0m in \u001b[0;36m<module>\u001b[0;34m\u001b[0m\n\u001b[1;32m      5\u001b[0m \u001b[0;32mfor\u001b[0m \u001b[0mscanner\u001b[0m \u001b[0;32min\u001b[0m \u001b[0mrange\u001b[0m\u001b[0;34m(\u001b[0m\u001b[0;36m4\u001b[0m\u001b[0;34m)\u001b[0m\u001b[0;34m:\u001b[0m\u001b[0;34m\u001b[0m\u001b[0;34m\u001b[0m\u001b[0m\n\u001b[1;32m      6\u001b[0m     \u001b[0;32mfor\u001b[0m \u001b[0mk\u001b[0m \u001b[0;32min\u001b[0m \u001b[0mrange\u001b[0m\u001b[0;34m(\u001b[0m\u001b[0;36m4\u001b[0m\u001b[0;34m)\u001b[0m\u001b[0;34m:\u001b[0m\u001b[0;34m\u001b[0m\u001b[0;34m\u001b[0m\u001b[0m\n\u001b[0;32m----> 7\u001b[0;31m         \u001b[0mimg\u001b[0m \u001b[0;34m=\u001b[0m \u001b[0mnp\u001b[0m\u001b[0;34m.\u001b[0m\u001b[0mrandom\u001b[0m\u001b[0;34m.\u001b[0m\u001b[0mchoice\u001b[0m\u001b[0;34m(\u001b[0m\u001b[0mimgs\u001b[0m\u001b[0;34m[\u001b[0m\u001b[0mscanner\u001b[0m\u001b[0;34m*\u001b[0m\u001b[0;36m50\u001b[0m\u001b[0;34m+\u001b[0m\u001b[0;36m1\u001b[0m\u001b[0;34m:\u001b[0m\u001b[0mscanner\u001b[0m\u001b[0;34m*\u001b[0m\u001b[0;36m50\u001b[0m\u001b[0;34m+\u001b[0m\u001b[0;36m50\u001b[0m\u001b[0;34m]\u001b[0m\u001b[0;34m)\u001b[0m\u001b[0;34m\u001b[0m\u001b[0;34m\u001b[0m\u001b[0m\n\u001b[0m\u001b[1;32m      8\u001b[0m         \u001b[0mimg\u001b[0m \u001b[0;34m=\u001b[0m \u001b[0mcv2\u001b[0m\u001b[0;34m.\u001b[0m\u001b[0mimread\u001b[0m\u001b[0;34m(\u001b[0m\u001b[0;34m'images_training/'\u001b[0m\u001b[0;34m+\u001b[0m\u001b[0mimg\u001b[0m\u001b[0;34m)\u001b[0m\u001b[0;34m\u001b[0m\u001b[0;34m\u001b[0m\u001b[0m\n\u001b[1;32m      9\u001b[0m         \u001b[0mimg\u001b[0m \u001b[0;34m=\u001b[0m \u001b[0mimg\u001b[0m\u001b[0;34m[\u001b[0m\u001b[0;34m:\u001b[0m\u001b[0;34m,\u001b[0m\u001b[0;34m:\u001b[0m\u001b[0;34m,\u001b[0m\u001b[0;34m:\u001b[0m\u001b[0;34m:\u001b[0m\u001b[0;34m-\u001b[0m\u001b[0;36m1\u001b[0m\u001b[0;34m]\u001b[0m\u001b[0;34m\u001b[0m\u001b[0;34m\u001b[0m\u001b[0m\n",
      "\u001b[0;31mNameError\u001b[0m: name 'imgs' is not defined"
     ]
    },
    {
     "data": {
      "image/png": "[encoded data removed]",
      "text/plain": [
       "<Figure size 720x288 with 16 Axes>"
      ]
     },
     "metadata": {
      "needs_background": "light"
     },
     "output_type": "display_data"
    }
   ],
   "source": [
    "import cv2\n",
    "import matplotlib.pyplot as plt\n",
    "fig, ax = plt.subplots(2,8,figsize=(10,4))\n",
    "ax = ax.reshape(4,4)\n",
    "for scanner in range(4):\n",
    "    for k in range(4):\n",
    "        img = np.random.choice(imgs[scanner*50+1:scanner*50+50])\n",
    "        img = cv2.imread('images_training/'+img)\n",
    "        img = img[:,:,::-1]\n",
    "        x,y = np.random.randint(1,2000),np.random.randint(1,2000)\n",
    "        sel = img[x:x+300,y:y+300,:]\n",
    "        ax[scanner,k].imshow(sel)\n",
    "        ax[scanner,k].axis('off')\n",
    "plt.tight_layout()\n",
    "plt.savefig('patches_scanners.svg')"
   ]
  }
 ],
 "metadata": {
  "kernelspec": {
   "display_name": "Python 3",
   "language": "python",
   "name": "python3"
  },
  "language_info": {
   "codemirror_mode": {
    "name": "ipython",
    "version": 3
   },
   "file_extension": ".py",
   "mimetype": "text/x-python",
   "name": "python",
   "nbconvert_exporter": "python",
   "pygments_lexer": "ipython3",
   "version": "3.6.9"
  }
 },
 "nbformat": 4,
 "nbformat_minor": 2
}
